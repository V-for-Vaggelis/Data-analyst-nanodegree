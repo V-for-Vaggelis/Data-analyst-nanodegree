{
 "cells": [
  {
   "cell_type": "markdown",
   "metadata": {},
   "source": [
    "# Dogs in mega-bites\n",
    "\n",
    "How likeable are dogs in twitter? Which breeds are the most likeable? In this article we are attempting to answer these and many more fun questions about dogs in twitter using data analysis.\n",
    "<img src=\"megabite.jpg\" alt=\"A cute dog giving a megabite on a laptop\">"
   ]
  },
  {
   "cell_type": "markdown",
   "metadata": {},
   "source": [
    "## Introduction\n",
    "We gathered, cleaned and combined data from three different sources, because after all those good boys deserve it. The three data sources are listed below:\n",
    "* The WeRateDogs Twitter archive, provided as a csv file called **twitter-archive-enhanced.csv**\n",
    "* The tweet image predictions, i.e., what breed of dog (or other object, animal, etc.) is present in each tweet according to a neural network. These data are hosted in the Udacity servers and accessed through an http request. The response is a tsv file called **image_predictions.tsv**\n",
    "* Each tweet's retweet count and favorite (\"like\") count, accessed through twitter's API and stored programmatically in a txt file.\n"
   ]
  },
  {
   "cell_type": "markdown",
   "metadata": {},
   "source": [
    "## Insights and visualizations\n",
    "Here are some statistics derived from our analysis, that provide insights on the popularity of dogs in twitter:\n",
    "* Average dog rating: **1.16** (looks like they are extremely good boys)\n",
    "* Average dog retweet number: **2521.90**\n",
    "* Average dog likes: **8339.82** \n",
    "* Most tweeted <a href=\"dogtionary-combined.png\">dog state</a>: **pupper**\n",
    "* Most tweeted dog breed: **golden_retriever**. Though we have to mention that our neural network's bias towards better predicting famous breeds might have something to do with this.\n",
    "\n",
    "Here is a description of the different dog states as explained in the <a href=\"https://www.amazon.com/WeRateDogs-Most-Hilarious-Adorable-Youve/dp/1510717145\">WeRateDogs Book</a> on Amazon.\n",
    "<img src=\"dogtionary-combined.png\" alt=\"Dog states explained\">\n",
    "\n",
    "Let's visualize the likeability of several dog breeds (we chose the 10 mostly liked):\n",
    "\n",
    "<img src=\"breed_likes.png\" alt=\"Likeability of several dog breeds\">\n",
    "\n",
    "Finally let's visualize the likeability of the different dog states explained above:\n",
    "\n",
    "<img src=\"state_likes.png\" alt=\"Likeability of the different dog states\">\n"
   ]
  },
  {
   "cell_type": "markdown",
   "metadata": {},
   "source": [
    "## Conclusions\n",
    "\n",
    "* __Dogs are very popular on twitter since they get several thousand likes and retweets on average.__\n",
    "* __The most common dog state is \"pupper\" and the most common breed is \"golden retriever\".__\n",
    "* __The most liked breed is \"Saluki\".__\n",
    "* __Seems like a combination of a doggo and a puppo is irresistable since it's by far the most likeable. The \"pupper\" is the less liked state, despite being the most common.__\n"
   ]
  }
 ],
 "metadata": {
  "kernelspec": {
   "display_name": "Python 3",
   "language": "python",
   "name": "python3"
  },
  "language_info": {
   "codemirror_mode": {
    "name": "ipython",
    "version": 3
   },
   "file_extension": ".py",
   "mimetype": "text/x-python",
   "name": "python",
   "nbconvert_exporter": "python",
   "pygments_lexer": "ipython3",
   "version": "3.7.6"
  }
 },
 "nbformat": 4,
 "nbformat_minor": 4
}
